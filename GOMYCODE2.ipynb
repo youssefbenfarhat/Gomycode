{
 "cells": [
  {
   "cell_type": "code",
   "execution_count": 1,
   "metadata": {},
   "outputs": [
    {
     "name": "stdout",
     "output_type": "stream",
     "text": [
      "First name ? \n",
      "Youssef\n",
      "last name ? \n",
      "Ben Farhat\n",
      "\n",
      "Ben Farhat Youssef\n"
     ]
    }
   ],
   "source": [
    "#Question 1 \n",
    "first=input(\"First name ? \\n\" ) \n",
    "last=input(\"last name ? \\n\")\n",
    "print('\\n'+last+' '+first)\n"
   ]
  },
  {
   "cell_type": "code",
   "execution_count": 2,
   "metadata": {},
   "outputs": [
    {
     "name": "stdout",
     "output_type": "stream",
     "text": [
      "number ? \n",
      "5\n",
      "615\n"
     ]
    }
   ],
   "source": [
    "n=input(\"number ? \\n\")\n",
    "ch=str(n)\n",
    "\n",
    "ch1=ch+ch\n",
    "ch2=ch+ch+ch\n",
    "\n",
    "print(int(ch2)+int(n)+int(ch1))"
   ]
  },
  {
   "cell_type": "code",
   "execution_count": 4,
   "metadata": {},
   "outputs": [
    {
     "name": "stdout",
     "output_type": "stream",
     "text": [
      "Donner un nombre ?m\n",
      "c est une chaine\n",
      "Donner un nombre ?697\n",
      "nombre\n",
      "697est un impaire\n"
     ]
    }
   ],
   "source": [
    "#Question 3\n",
    "t=False\n",
    "while t==False:\n",
    "    c=input(\"Donner un nombre ?\")\n",
    "    \n",
    "    if (c.isdigit()):\n",
    "        print('nombre')\n",
    "        n=int(c)\n",
    "        \n",
    "        t=True\n",
    "        if (n%2==0):\n",
    "            print(c +\"est un paire\")\n",
    "        else : \n",
    "            print(c +\"est un impaire\")\n",
    "    else:\n",
    "        print('c est une chaine')"
   ]
  },
  {
   "cell_type": "code",
   "execution_count": 6,
   "metadata": {},
   "outputs": [
    {
     "name": "stdout",
     "output_type": "stream",
     "text": [
      "Donner une annee ?kfk\n",
      " cest une chaine\n",
      "Donner une annee ?2000\n",
      "les dernieres caracteres :00\n",
      "n est pas une annee bissextile\n"
     ]
    }
   ],
   "source": [
    "#Question 4\n",
    "t=False\n",
    "cc=\"\"\n",
    "while t==False:\n",
    "    c=input(\"Donner une annee ?\")\n",
    "    \n",
    "    if (c.isdigit()):\n",
    "        j=len(c) \n",
    "        i=0\n",
    "        while i<2:\n",
    "            \n",
    "            cc=c[j-1]+cc\n",
    "            j=j-1\n",
    "            i=i+1\n",
    "        \n",
    "        t=True\n",
    "        print(\"les dernieres caracteres :\"+cc)\n",
    "       \n",
    "        if (cc!=\"00\" and int(c)%4==0):\n",
    "            print(\"annee bissextile\")\n",
    "        else :\n",
    "            print (\"n est pas une annee bissextile\" )\n",
    "        \n",
    "    else:\n",
    "        print(' cest une chaine')"
   ]
  },
  {
   "cell_type": "code",
   "execution_count": null,
   "metadata": {},
   "outputs": [],
   "source": [
    "#QUESTION 5\n",
    "t=False\n",
    "result = \"\" \n",
    "while t==False:\n",
    "    c=input(\"Donner la chaine ?\")\n",
    "   \n",
    "    if (c.isdigit()!=True):\n",
    "        t=True \n",
    "          \n",
    "    for i in range(len(c)):\n",
    "        if i % 2 == 0:\n",
    "            result = result + c[i]\n",
    "    c=result\n",
    "    print(c)"
   ]
  },
  {
   "cell_type": "code",
   "execution_count": null,
   "metadata": {},
   "outputs": [],
   "source": [
    "#QUESTION 6\n",
    "t=False\n",
    "\n",
    "while t==False:\n",
    "    prix=input(\"Donner le prix ?\")\n",
    "    prixfinal=float(prix)\n",
    "    if (prix.isdigit()):\n",
    "        if (float(prix)>0):\n",
    "            t=True\n",
    "        if (float(prix)>=500):\n",
    "             prixfinal= prixfinal+ prixfinal*0.5\n",
    "        elif (float(prix)>=200 and float(prix)<500):\n",
    "             prixfinal= prixfinal+ prixfinal*0.3\n",
    "        else :\n",
    "             prixfinal= prixfinal+ prixfinal*0.1\n",
    "        \n",
    "        print('VOTRE PRIX FINAL EST :',prixfinal)\n",
    "    else:\n",
    "        print(' Donner le prix ?')"
   ]
  },
  {
   "cell_type": "code",
   "execution_count": null,
   "metadata": {},
   "outputs": [],
   "source": []
  }
 ],
 "metadata": {
  "kernelspec": {
   "display_name": "Python 3",
   "language": "python",
   "name": "python3"
  },
  "language_info": {
   "codemirror_mode": {
    "name": "ipython",
    "version": 3
   },
   "file_extension": ".py",
   "mimetype": "text/x-python",
   "name": "python",
   "nbconvert_exporter": "python",
   "pygments_lexer": "ipython3",
   "version": "3.7.3"
  }
 },
 "nbformat": 4,
 "nbformat_minor": 2
}
