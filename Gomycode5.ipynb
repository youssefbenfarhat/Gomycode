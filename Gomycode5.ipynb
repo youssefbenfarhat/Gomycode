{
 "cells": [
  {
   "cell_type": "code",
   "execution_count": 3,
   "metadata": {},
   "outputs": [],
   "source": [
    "import numpy as np\n"
   ]
  },
  {
   "cell_type": "code",
   "execution_count": 34,
   "metadata": {},
   "outputs": [
    {
     "name": "stdout",
     "output_type": "stream",
     "text": [
      "[[0, 1, 2], [3, 4, 5], [6, 7, 8]]\n"
     ]
    }
   ],
   "source": [
    "#QUESTION 1\n",
    "#a = np.array([[0,1,2],[3,4,5],[6,7,8]])\n",
    "liste=[]\n",
    "\n",
    "print(a.tolist())\n",
    "\n",
    "\n",
    "   \n"
   ]
  },
  {
   "cell_type": "code",
   "execution_count": 58,
   "metadata": {},
   "outputs": [
    {
     "name": "stdout",
     "output_type": "stream",
     "text": [
      "somme 9\n"
     ]
    }
   ],
   "source": [
    "#QUESTION 2 \n",
    "\n",
    "#a = np.array([[0,1,2],[3,4,5],[6,7,5]])\n",
    "s=0\n",
    "\n",
    "\n",
    "for i in range(0,a.shape[0]):\n",
    "    \n",
    "        s=s+a[i][i]\n",
    "        \n",
    "print('somme',s)"
   ]
  },
  {
   "cell_type": "code",
   "execution_count": 63,
   "metadata": {},
   "outputs": [
    {
     "name": "stdout",
     "output_type": "stream",
     "text": [
      "44  est superieur de  5\n",
      "99  est superieur de  5\n",
      "6  est superieur de  5\n",
      "7  est superieur de  5\n",
      "6  est superieur de  5\n",
      "7  est superieur de  5\n"
     ]
    }
   ],
   "source": [
    "#QUESTION 3 \n",
    "a = np.array([[44,99,2],[6,7,5],[6,7,5]])\n",
    "x=5\n",
    "liste=[]\n",
    "for i in range(0,a.shape[0]):\n",
    "    for j in range(0,a.shape[1]):\n",
    "        if a[i][j]>x:\n",
    "            print(a[i][j],' est superieur de ',x)\n",
    "            "
   ]
  },
  {
   "cell_type": "code",
   "execution_count": 75,
   "metadata": {},
   "outputs": [
    {
     "name": "stdout",
     "output_type": "stream",
     "text": [
      "[[ 45 101   5]\n",
      " [ 10  12  11]\n",
      " [ 13  15  14]]\n"
     ]
    }
   ],
   "source": [
    "#Question 4\n",
    "#a = np.array([[44,99,2],[6,7,5],[6,7,5]])\n",
    "#b=np.array([[1,2,3],[4,5,6],[7,8,9]])\n",
    "\n",
    "c=a+b\n",
    "print(c)\n",
    "\n",
    "        \n"
   ]
  },
  {
   "cell_type": "code",
   "execution_count": 88,
   "metadata": {},
   "outputs": [
    {
     "name": "stdout",
     "output_type": "stream",
     "text": [
      "les moyennes : [4.0, 5.0, 8.0]\n"
     ]
    }
   ],
   "source": [
    "#QUESTION 5\n",
    "#a=np.array([[1,2,9],[4,5,6],[7,8,9]])\n",
    "b=[]\n",
    "for i in range(0,a.shape[0]):\n",
    "    somme=0\n",
    "    moy=0\n",
    "    for j in range(0,a.shape[1]):\n",
    "        somme=somme+a[i][j]\n",
    "    moy=somme/a.shape[1]\n",
    "    \n",
    "    b.append(moy)\n",
    "    \n",
    "print(\"les moyennes :\",b)"
   ]
  }
 ],
 "metadata": {
  "kernelspec": {
   "display_name": "Python 3",
   "language": "python",
   "name": "python3"
  },
  "language_info": {
   "codemirror_mode": {
    "name": "ipython",
    "version": 3
   },
   "file_extension": ".py",
   "mimetype": "text/x-python",
   "name": "python",
   "nbconvert_exporter": "python",
   "pygments_lexer": "ipython3",
   "version": "3.7.3"
  }
 },
 "nbformat": 4,
 "nbformat_minor": 2
}
