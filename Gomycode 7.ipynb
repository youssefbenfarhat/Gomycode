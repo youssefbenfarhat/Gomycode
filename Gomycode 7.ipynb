{
 "cells": [
  {
   "cell_type": "code",
   "execution_count": 62,
   "metadata": {},
   "outputs": [],
   "source": [
    "from sklearn import datasets\n",
    "from sklearn.model_selection import train_test_split\n",
    "from sklearn import tree\n",
    "import pandas as pd\n",
    "import numpy as np\n",
    "\n",
    "from sklearn.metrics import confusion_matrix\n",
    "import matplotlib.pyplot as plt"
   ]
  },
  {
   "cell_type": "code",
   "execution_count": 94,
   "metadata": {},
   "outputs": [],
   "source": [
    "dataset = datasets.load_iris()\n",
    "\n",
    "X_train, X_test, y_train, y_test =train_test_split(dataset.data, dataset.target)\n",
    "iris_df = pd.DataFrame(dataset.data, columns = dataset.feature_names)\n",
    "\n"
   ]
  },
  {
   "cell_type": "code",
   "execution_count": 95,
   "metadata": {},
   "outputs": [
    {
     "name": "stdout",
     "output_type": "stream",
     "text": [
      "classification accu train  1.0\n",
      "classification accu train  0.8421052631578947\n"
     ]
    }
   ],
   "source": [
    "c=tree.DecisionTreeClassifier()\n",
    "c.fit(X_train, y_train)\n",
    "accu_train=np.sum(c.predict(X_train)==y_train)/float(y_train.size)\n",
    "accu_test=np.sum(c.predict(X_test)==y_test)/float(y_test.size)\n",
    "\n",
    "\n",
    "print('classification accu train ',accu_train) \n",
    "print('classification accu test ',accu_test) "
   ]
  },
  {
   "cell_type": "code",
   "execution_count": 98,
   "metadata": {},
   "outputs": [
    {
     "data": {
      "text/plain": [
       "array([[12,  0,  0],\n",
       "       [ 0, 12,  0],\n",
       "       [ 0,  6,  8]], dtype=int64)"
      ]
     },
     "execution_count": 98,
     "metadata": {},
     "output_type": "execute_result"
    }
   ],
   "source": [
    "\n",
    "confusion_matrix(y_test,c.predict(X_test),labels=[0,1,2])\n",
    "#ELLE nous donne une bonne precision pour le 0 et 1 mais pas 2\n"
   ]
  }
 ],
 "metadata": {
  "kernelspec": {
   "display_name": "Python 3",
   "language": "python",
   "name": "python3"
  },
  "language_info": {
   "codemirror_mode": {
    "name": "ipython",
    "version": 3
   },
   "file_extension": ".py",
   "mimetype": "text/x-python",
   "name": "python",
   "nbconvert_exporter": "python",
   "pygments_lexer": "ipython3",
   "version": "3.7.3"
  }
 },
 "nbformat": 4,
 "nbformat_minor": 2
}
