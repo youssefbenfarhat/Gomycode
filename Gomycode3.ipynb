{
 "cells": [
  {
   "cell_type": "code",
   "execution_count": 4,
   "metadata": {},
   "outputs": [
    {
     "name": "stdout",
     "output_type": "stream",
     "text": [
      "le produit est  36\n"
     ]
    }
   ],
   "source": [
    "#QUESTION 1\n",
    "i=0\n",
    "produit=1\n",
    "\n",
    "while i < len(list):\n",
    "    produit=produit*list[i]\n",
    "    i=i+1\n",
    "print(\"le produit est \",produit)\n",
    "\n",
    "    \n",
    "    "
   ]
  },
  {
   "cell_type": "code",
   "execution_count": 17,
   "metadata": {},
   "outputs": [
    {
     "name": "stdout",
     "output_type": "stream",
     "text": [
      "affichage liste avant le tri [(1, 2), (3, 4), (7, 6)]\n",
      "affichage liste apres le tri [(1, 2), (3, 4), (7, 6)]\n"
     ]
    }
   ],
   "source": [
    "#QUESTION 2\n",
    "\n",
    "print(\"affichage liste avant le tri\",liste)\n",
    "\n",
    "for j in range (1,len(liste)) :\n",
    "    for i in range(len(liste)-j) :\n",
    "        if liste[i][-1]>liste[i+1][-1]:\n",
    "            aa=liste[i]\n",
    "            liste[i]=liste[i+1]\n",
    "            liste[i+1]=aa\n",
    "    \n",
    "print(\"affichage liste apres le tri\",liste)\n",
    "        \n",
    "                   \n",
    "        \n",
    "\n",
    "\n",
    "    "
   ]
  },
  {
   "cell_type": "code",
   "execution_count": 72,
   "metadata": {},
   "outputs": [
    {
     "name": "stdout",
     "output_type": "stream",
     "text": [
      "dict3 : {'a': 4, 'b': 3, 'c': 5, 'd': 5}\n",
      "a\n",
      "b\n",
      "c\n",
      "{'a': 5, 'b': 5, 'c': 5, 'd': 5}\n"
     ]
    }
   ],
   "source": [
    "#QUESTION 3\n",
    "#exple dic1={'a':1,'b':2,'c':5}\n",
    "#exple dic2={'a':4,'b':3,'d':5}\n",
    "dic3=dict(dic1)\n",
    "dic3.update(dic2)\n",
    "print('dict3 :',dic3)\n",
    "for i in dic1.keys():\n",
    "    print(i)\n",
    "    for x in dic2.keys():\n",
    "       \n",
    "        if i == x:\n",
    "\n",
    "            dic3[i]=dic1[i]+dic2[x]\n",
    "print(dic3)\n",
    "           \n",
    "\n",
    "\n"
   ]
  },
  {
   "cell_type": "code",
   "execution_count": 6,
   "metadata": {},
   "outputs": [
    {
     "name": "stdout",
     "output_type": "stream",
     "text": [
      "[('item1', 9.1), ('item2', 4.3), ('item3', 1.6)]\n"
     ]
    }
   ],
   "source": [
    "#Question 4\n",
    "#liste=[('item2', 4.3), ('item1', 9.1), ('item3', 1.6)]\n",
    "for j in range (1,len(liste)) :\n",
    "    for i in range(len(liste)-j) :\n",
    "        if liste[i][-1]<liste[i+1][-1]:\n",
    "            aa=liste[i]\n",
    "            liste[i]=liste[i+1]\n",
    "            liste[i+1]=aa\n",
    "            \n",
    "print(liste)"
   ]
  },
  {
   "cell_type": "code",
   "execution_count": null,
   "metadata": {},
   "outputs": [],
   "source": []
  }
 ],
 "metadata": {
  "kernelspec": {
   "display_name": "Python 3",
   "language": "python",
   "name": "python3"
  },
  "language_info": {
   "codemirror_mode": {
    "name": "ipython",
    "version": 3
   },
   "file_extension": ".py",
   "mimetype": "text/x-python",
   "name": "python",
   "nbconvert_exporter": "python",
   "pygments_lexer": "ipython3",
   "version": "3.7.3"
  }
 },
 "nbformat": 4,
 "nbformat_minor": 2
}
