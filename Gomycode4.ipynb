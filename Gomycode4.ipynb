{
 "cells": [
  {
   "cell_type": "code",
   "execution_count": 9,
   "metadata": {},
   "outputs": [
    {
     "name": "stdout",
     "output_type": "stream",
     "text": [
      "799\n"
     ]
    }
   ],
   "source": [
    "#QUESTION 1\n",
    "def max(a,b,c):\n",
    "    max=a\n",
    "    if b>max:\n",
    "        max=b\n",
    "    if c>max:\n",
    "        max=c\n",
    "    return max\n"
   ]
  },
  {
   "cell_type": "code",
   "execution_count": 45,
   "metadata": {},
   "outputs": [
    {
     "name": "stdout",
     "output_type": "stream",
     "text": [
      "produit 48\n",
      "somme 19\n"
     ]
    }
   ],
   "source": [
    "#QUESTION 2\n",
    "def summ(liste):\n",
    "    su=0\n",
    "    for i in range (0,len(liste)) :\n",
    "        su=su+liste[i]\n",
    "        \n",
    "        \n",
    "    return su\n",
    "\n",
    "def produit(liste):\n",
    "    pro=1\n",
    "    for i in range(0,len(liste)):\n",
    "        pro=pro*liste[i]\n",
    "        \n",
    "        \n",
    "    return pro\n",
    "\n",
    "\n",
    "liste3=[]\n",
    "liste4=[]\n",
    "\n",
    "for i in range (0,len(liste),2):\n",
    "    liste3.append(liste[i])\n",
    "    \n",
    "for i in range (1,len(liste),2):\n",
    "    liste4.append(liste[i])\n",
    "    \n",
    "print(\"produit\",produit(liste4)) \n",
    "print(\"somme\",summ(liste3))\n",
    "\n"
   ]
  },
  {
   "cell_type": "code",
   "execution_count": 55,
   "metadata": {},
   "outputs": [
    {
     "name": "stdout",
     "output_type": "stream",
     "text": [
      "['blue', 'green', 'orange', 'red', 'yellow']\n",
      "blue-green-orange-red-yellow\n"
     ]
    }
   ],
   "source": [
    "#QUESTION 3\n",
    "\n",
    "#colors='red-orange-yellow-green-blue'\n",
    "items=[n for n in colors.split('-')]\n",
    "\n",
    "items.sort()\n",
    "print(items)\n",
    "print('-'.join(items))\n"
   ]
  },
  {
   "cell_type": "code",
   "execution_count": null,
   "metadata": {},
   "outputs": [],
   "source": []
  }
 ],
 "metadata": {
  "kernelspec": {
   "display_name": "Python 3",
   "language": "python",
   "name": "python3"
  },
  "language_info": {
   "codemirror_mode": {
    "name": "ipython",
    "version": 3
   },
   "file_extension": ".py",
   "mimetype": "text/x-python",
   "name": "python",
   "nbconvert_exporter": "python",
   "pygments_lexer": "ipython3",
   "version": "3.7.3"
  }
 },
 "nbformat": 4,
 "nbformat_minor": 2
}
